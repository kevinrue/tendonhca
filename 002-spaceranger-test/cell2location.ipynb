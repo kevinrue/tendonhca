{
 "cells": [
  {
   "cell_type": "markdown",
   "id": "0a0c46c0",
   "metadata": {},
   "source": [
    "Based on <https://cell2location.readthedocs.io/en/latest/notebooks/cell2location_short_demo.html>"
   ]
  },
  {
   "cell_type": "markdown",
   "id": "5de75262",
   "metadata": {},
   "source": [
    "# Loading packages and setting up GPU"
   ]
  },
  {
   "cell_type": "code",
   "execution_count": null,
   "id": "ae9cfba3",
   "metadata": {},
   "outputs": [],
   "source": [
    "import sys\n",
    "import scanpy as sc\n",
    "import anndata\n",
    "import pandas as pd\n",
    "import numpy as np\n",
    "import os\n",
    "import gc\n",
    "\n",
    "# this line forces theano to use the GPU and should go before importing cell2location\n",
    "os.environ[\"THEANO_FLAGS\"] = 'device=cuda0,floatX=float32,force_device=True'\n",
    "# if using the CPU uncomment this:\n",
    "#os.environ[\"THEANO_FLAGS\"] = 'device=cpu,floatX=float32,openmp=True,force_device=True'\n",
    "\n",
    "import cell2location\n",
    "\n",
    "import matplotlib as mpl\n",
    "from matplotlib import rcParams\n",
    "import matplotlib.pyplot as plt\n",
    "import seaborn as sns\n",
    "\n",
    "# silence scanpy that prints a lot of warnings\n",
    "import warnings\n",
    "warnings.filterwarnings('ignore')"
   ]
  },
  {
   "cell_type": "markdown",
   "id": "4f7d0f1f",
   "metadata": {},
   "source": [
    "# Loading Visium data"
   ]
  },
  {
   "cell_type": "markdown",
   "id": "ec571693",
   "metadata": {},
   "source": [
    "Adjusted path to data"
   ]
  },
  {
   "cell_type": "code",
   "execution_count": null,
   "id": "a86aa9f8",
   "metadata": {},
   "outputs": [],
   "source": [
    "# Set paths to data and results used through the document:\n",
    "sp_data_folder = './'"
   ]
  },
  {
   "cell_type": "markdown",
   "id": "c20bb8fd",
   "metadata": {},
   "source": [
    "Adjusted path to data (again).\n",
    "Also, changed name of the CSV file that lists samples."
   ]
  },
  {
   "cell_type": "code",
   "execution_count": null,
   "id": "7a2b8c58",
   "metadata": {},
   "outputs": [],
   "source": [
    "def read_and_qc(sample_name, path=sp_data_folder):\n",
    "    r\"\"\" This function reads the data for one 10X spatial experiment into the anndata object.\n",
    "    It also calculates QC metrics. Modify this function if required by your workflow.\n",
    "    \n",
    "    :param sample_name: Name of the sample\n",
    "    :param path: path to data\n",
    "    \"\"\"\n",
    "    \n",
    "    adata = sc.read_visium(path + str(sample_name) + '/outs',\n",
    "                           count_file='filtered_feature_bc_matrix.h5', load_images=True)\n",
    "    adata.obs['sample'] = sample_name\n",
    "    adata.var['SYMBOL'] = adata.var_names\n",
    "    adata.var.rename(columns={'gene_ids': 'ENSEMBL'}, inplace=True)\n",
    "    adata.var_names = adata.var['ENSEMBL']\n",
    "    adata.var.drop(columns='ENSEMBL', inplace=True)\n",
    "    \n",
    "    # Calculate QC metrics\n",
    "    from scipy.sparse import csr_matrix\n",
    "    adata.X = adata.X.toarray()\n",
    "    sc.pp.calculate_qc_metrics(adata, inplace=True)\n",
    "    adata.X = csr_matrix(adata.X)\n",
    "    adata.var['mt'] = [gene.startswith('MT-') for gene in adata.var['SYMBOL']]\n",
    "    adata.obs['mt_frac'] = adata[:, adata.var['mt'].tolist()].X.sum(1).A.squeeze()/adata.obs['total_counts']\n",
    "    \n",
    "    # add sample name to obs names\n",
    "    adata.obs[\"sample\"] = [str(i) for i in adata.obs['sample']]\n",
    "    adata.obs_names = adata.obs[\"sample\"] \\\n",
    "                          + '_' + adata.obs_names\n",
    "    adata.obs.index.name = 'spot_id'\n",
    "    \n",
    "    return adata\n",
    "\n",
    "def select_slide(adata, s, s_col='sample'):\n",
    "    r\"\"\" This function selects the data for one slide from the spatial anndata object.\n",
    "\n",
    "    :param adata: Anndata object with multiple spatial experiments\n",
    "    :param s: name of selected experiment\n",
    "    :param s_col: column in adata.obs listing experiment name for each location\n",
    "    \"\"\"\n",
    "    \n",
    "    slide = adata[adata.obs[s_col].isin([s]), :]\n",
    "    s_keys = list(slide.uns['spatial'].keys())\n",
    "    s_spatial = np.array(s_keys)[[s in k for k in s_keys]][0]\n",
    "    \n",
    "    slide.uns['spatial'] = {s_spatial: slide.uns['spatial'][s_spatial]}\n",
    "    \n",
    "    return slide\n",
    "\n",
    "#######################\n",
    "# Read the list of spatial experiments\n",
    "sample_data = pd.read_csv('Visium_samples.csv')\n",
    "\n",
    "# Read the data into anndata objects\n",
    "slides = []\n",
    "for i in sample_data['sample_name']:\n",
    "    slides.append(read_and_qc(i, path=sp_data_folder))\n",
    "\n",
    "# Combine anndata objects together\n",
    "adata = slides[0].concatenate(\n",
    "    slides[1:],\n",
    "    batch_key=\"sample\",\n",
    "    uns_merge=\"unique\",\n",
    "    batch_categories=sample_data['sample_name'],\n",
    "    index_unique=None\n",
    ")\n",
    "#######################"
   ]
  },
  {
   "cell_type": "markdown",
   "id": "8aef58ef",
   "metadata": {},
   "source": [
    "Display result"
   ]
  },
  {
   "cell_type": "code",
   "execution_count": null,
   "id": "58d78217",
   "metadata": {},
   "outputs": [],
   "source": [
    "adata"
   ]
  },
  {
   "cell_type": "code",
   "execution_count": null,
   "id": "6045d3dc",
   "metadata": {},
   "outputs": [],
   "source": [
    "# mitochondria-encoded (MT) genes should be removed for spatial mapping\n",
    "adata.obsm['mt'] = adata[:, adata.var['mt'].values].X.toarray()\n",
    "adata = adata[:, ~adata.var['mt'].values]"
   ]
  },
  {
   "cell_type": "code",
   "execution_count": null,
   "id": "b56028a0",
   "metadata": {},
   "outputs": [],
   "source": [
    "adata"
   ]
  },
  {
   "cell_type": "markdown",
   "id": "88045868",
   "metadata": {},
   "source": [
    "TODO: The bit above does nothing at the moment, because gene names are Ensembl gene identifiers. See below.\n",
    "Either import directly gene symbols or add code that translates identifiers into symbols."
   ]
  },
  {
   "cell_type": "code",
   "execution_count": null,
   "id": "464b929d",
   "metadata": {},
   "outputs": [],
   "source": [
    "adata.var_names"
   ]
  },
  {
   "cell_type": "markdown",
   "id": "f0043736",
   "metadata": {},
   "source": [
    "# Look at QC metrics"
   ]
  },
  {
   "cell_type": "markdown",
   "id": "e25c6089",
   "metadata": {},
   "source": [
    "What a pain to adjust the code below for a single sample."
   ]
  },
  {
   "cell_type": "code",
   "execution_count": null,
   "id": "4204304a",
   "metadata": {},
   "outputs": [],
   "source": [
    "# PLOT QC FOR EACH SAMPLE\n",
    "fig, axs = plt.subplots(len(slides), 4, figsize=(15, 4))\n",
    "for i, s in enumerate(adata.obs['sample'].unique()):\n",
    "    #fig.suptitle('Covariates for filtering')\n",
    "    slide = select_slide(adata, s)\n",
    "    sns.distplot(slide.obs['total_counts'],\n",
    "                 kde=False, ax = axs[0])\n",
    "    axs[0].set_xlim(0, adata.obs['total_counts'].max())\n",
    "    axs[0].set_xlabel(f'total_counts | {s}')\n",
    "\n",
    "    sns.distplot(slide.obs['total_counts']\\\n",
    "                 [slide.obs['total_counts']<500],\n",
    "                 kde=False, bins=40, ax = axs[1])\n",
    "    axs[1].set_xlim(0, 500)\n",
    "    axs[1].set_xlabel(f'total_counts | {s}')\n",
    "\n",
    "    sns.distplot(slide.obs['n_genes_by_counts'],\n",
    "                 kde=False, bins=60, ax = axs[2])\n",
    "    axs[2].set_xlim(0, adata.obs['n_genes_by_counts'].max())\n",
    "    axs[2].set_xlabel(f'n_genes_by_counts | {s}')\n",
    "\n",
    "    sns.distplot(slide.obs['n_genes_by_counts']\\\n",
    "                 [slide.obs['n_genes_by_counts']<400],\n",
    "                 kde=False, bins=60, ax = axs[3])\n",
    "    axs[3].set_xlim(0, 400)\n",
    "    axs[3].set_xlabel(f'n_genes_by_counts | {s}')\n",
    "\n",
    "#plt.tight_layout()"
   ]
  },
  {
   "cell_type": "markdown",
   "id": "c49c60c2",
   "metadata": {},
   "source": [
    "# Visualising data in spatial coordinates with scanpy"
   ]
  },
  {
   "cell_type": "markdown",
   "id": "789ce6a9",
   "metadata": {},
   "source": [
    "Before panicking, bear in mind that the colors below are QC stats.\n",
    "Look at the original photo to see what the tissue really looks like."
   ]
  },
  {
   "cell_type": "code",
   "execution_count": null,
   "id": "e7091b18",
   "metadata": {},
   "outputs": [],
   "source": [
    "slide = select_slide(adata, 'OMB1556_Ach_Enth_H')\n",
    "\n",
    "with mpl.rc_context({'figure.figsize': [6,7],\n",
    "                     'axes.facecolor': 'white'}):\n",
    "    sc.pl.spatial(slide, img_key = \"hires\", cmap='magma',\n",
    "                  library_id=list(slide.uns['spatial'].keys())[0],\n",
    "                  color=['total_counts', 'n_genes_by_counts'], size=1,\n",
    "                  vmin=0, vmax='p99.0',\n",
    "                  gene_symbols='SYMBOL', show=False, return_fig=True)"
   ]
  },
  {
   "cell_type": "code",
   "execution_count": null,
   "id": "f2b9740d",
   "metadata": {
    "scrolled": true
   },
   "outputs": [],
   "source": [
    "with mpl.rc_context({'figure.figsize': [6,7],\n",
    "                     'axes.facecolor': 'black'}):\n",
    "    sc.pl.spatial(slide,\n",
    "                  #color=[\"ENSG00000075624\", \"ENSG00000260428\"], img_key=None, size=1,\n",
    "                  color=[\"ACTB\", \"TNC\", \"CLU\"], img_key=None, size=1,\n",
    "                  vmin=0, cmap='magma', vmax='p99.0',\n",
    "                  gene_symbols='SYMBOL'\n",
    "                 )"
   ]
  },
  {
   "cell_type": "code",
   "execution_count": null,
   "id": "db067cde",
   "metadata": {},
   "outputs": [],
   "source": [
    "adata_vis = adata.copy()\n",
    "adata_vis.raw = adata_vis"
   ]
  },
  {
   "cell_type": "markdown",
   "id": "cd7a3753",
   "metadata": {},
   "source": [
    "# Construct and examine UMAP of locations"
   ]
  },
  {
   "cell_type": "code",
   "execution_count": null,
   "id": "26ab3cc4",
   "metadata": {},
   "outputs": [],
   "source": [
    "adata_vis_plt = adata_vis.copy()\n",
    "\n",
    "# Log-transform (log(data + 1))\n",
    "sc.pp.log1p(adata_vis_plt)\n",
    "\n",
    "# Find highly variable genes within each sample\n",
    "adata_vis_plt.var['highly_variable'] = False\n",
    "for s in adata_vis_plt.obs['sample'].unique():\n",
    "\n",
    "    adata_vis_plt_1 = adata_vis_plt[adata_vis_plt.obs['sample'].isin([s]), :]\n",
    "    sc.pp.highly_variable_genes(adata_vis_plt_1, min_mean=0.0125, max_mean=5, min_disp=0.5, n_top_genes=1000)\n",
    "\n",
    "    hvg_list = list(adata_vis_plt_1.var_names[adata_vis_plt_1.var['highly_variable']])\n",
    "    adata_vis_plt.var.loc[hvg_list, 'highly_variable'] = True\n",
    "\n",
    "# Scale the data ( (data - mean) / sd )\n",
    "sc.pp.scale(adata_vis_plt, max_value=10)\n",
    "# PCA, KNN construction, UMAP\n",
    "sc.tl.pca(adata_vis_plt, svd_solver='arpack', n_comps=40, use_highly_variable=True)\n",
    "sc.pp.neighbors(adata_vis_plt, n_neighbors = 20, n_pcs = 40, metric='cosine')\n",
    "sc.tl.umap(adata_vis_plt, min_dist = 0.3, spread = 1)\n",
    "\n",
    "with mpl.rc_context({'figure.figsize': [8, 8],\n",
    "                     'axes.facecolor': 'white'}):\n",
    "    sc.pl.umap(adata_vis_plt, color=['sample'], size=30,\n",
    "               color_map = 'RdPu', ncols = 1, #legend_loc='on data',\n",
    "               legend_fontsize=10)"
   ]
  },
  {
   "cell_type": "markdown",
   "id": "43deb9df",
   "metadata": {},
   "source": [
    "# Kevin's questions"
   ]
  },
  {
   "cell_type": "markdown",
   "id": "535b8d28",
   "metadata": {},
   "source": [
    "What are the genes most abundantly expressed on average across all locations in the slide?"
   ]
  },
  {
   "cell_type": "code",
   "execution_count": null,
   "id": "1b7d1875",
   "metadata": {},
   "outputs": [],
   "source": [
    "adata_vis.var"
   ]
  },
  {
   "cell_type": "code",
   "execution_count": null,
   "id": "be2476c3",
   "metadata": {},
   "outputs": [],
   "source": [
    "adata_vis_feature_mean = np.array(adata_vis.X.mean(axis=0)).flatten()\n",
    "d = {'SYMBOL': adata_vis.var['SYMBOL'], 'mean': adata_vis_feature_mean}\n",
    "adata_vis_feature_mean = pd.DataFrame(d, index=adata_vis.var_names).sort_values(by=['mean'], ascending=False)\n",
    "adata_vis_feature_mean.head(20)"
   ]
  },
  {
   "cell_type": "code",
   "execution_count": null,
   "id": "5661055c",
   "metadata": {},
   "outputs": [],
   "source": [
    "with mpl.rc_context({'figure.figsize': [6,7],\n",
    "                     'axes.facecolor': 'black'}):\n",
    "    sc.pl.spatial(slide,\n",
    "                  color=adata_vis_feature_mean.head(12)['SYMBOL'].tolist(), img_key=None, size=1,\n",
    "                  vmin=0, cmap='magma', vmax='p99.0',\n",
    "                  gene_symbols='SYMBOL'\n",
    "                 )"
   ]
  }
 ],
 "metadata": {
  "kernelspec": {
   "display_name": "Python 3 (ipykernel)",
   "language": "python",
   "name": "python3"
  },
  "language_info": {
   "codemirror_mode": {
    "name": "ipython",
    "version": 3
   },
   "file_extension": ".py",
   "mimetype": "text/x-python",
   "name": "python",
   "nbconvert_exporter": "python",
   "pygments_lexer": "ipython3",
   "version": "3.9.16"
  }
 },
 "nbformat": 4,
 "nbformat_minor": 5
}
