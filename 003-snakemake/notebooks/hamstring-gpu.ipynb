{
 "cells": [
  {
   "cell_type": "code",
   "execution_count": null,
   "metadata": {},
   "outputs": [],
   "source": [
    "import os\n",
    "os.environ[\"THEANO_FLAGS\"] = 'device=cuda,floatX=float32,force_device=True'\n",
    "os.environ[\"PYTORCH_ENABLE_MPS_FALLBACK\"] = \"1\"\n",
    "os.environ[\"PYTORCH_ENABLE_MPS_FALLBACK\"]"
   ]
  },
  {
   "cell_type": "code",
   "execution_count": null,
   "metadata": {
    "execution": {
     "iopub.execute_input": "2023-10-18T21:24:18.947529Z",
     "iopub.status.busy": "2023-10-18T21:24:18.946857Z",
     "iopub.status.idle": "2023-10-18T21:25:39.093028Z",
     "shell.execute_reply": "2023-10-18T21:25:39.092325Z"
    }
   },
   "outputs": [],
   "source": [
    "import matplotlib as plt\n",
    "import numpy as np\n",
    "import scanpy as sc\n",
    "import cell2location\n",
    "#from cell2location.utils.filtering import filter_genes\n",
    "#from cell2location.models import RegressionModel"
   ]
  },
  {
   "cell_type": "code",
   "execution_count": null,
   "metadata": {
    "execution": {
     "iopub.execute_input": "2023-10-18T21:25:39.104853Z",
     "iopub.status.busy": "2023-10-18T21:25:39.104602Z",
     "iopub.status.idle": "2023-10-18T21:25:39.108811Z",
     "shell.execute_reply": "2023-10-18T21:25:39.108316Z"
    }
   },
   "outputs": [],
   "source": [
    "os.name"
   ]
  },
  {
   "cell_type": "code",
   "execution_count": null,
   "metadata": {
    "execution": {
     "iopub.execute_input": "2023-10-18T21:25:39.110736Z",
     "iopub.status.busy": "2023-10-18T21:25:39.110508Z",
     "iopub.status.idle": "2023-10-18T21:25:39.113688Z",
     "shell.execute_reply": "2023-10-18T21:25:39.113271Z"
    }
   },
   "outputs": [],
   "source": [
    "# Kevin's Macbook\n",
    "# hamstring_h5ad = \"/Users/kevin/Nexus365/Jolet Mimpen - CZI - Tendon Seed Network/Manuscripts/Hamstring paper/cell2loc/hamstring_integrated_annotated_res0p15_20220922.h5ad\"\n",
    "# # create paths and names to results folders for reference regression and cell2location models\n",
    "# RESULTS_FOLDERNAME = '/Users/kevin/git/kevinrue/tendonhca/003-snakemake/notebooks/hamstring-gpu'\n",
    "# ref_run_name = f'{RESULTS_FOLDERNAME}/reference_signatures'\n",
    "# run_name = f'{RESULTS_FOLDERNAME}/cell2location_map'"
   ]
  },
  {
   "cell_type": "code",
   "execution_count": null,
   "metadata": {
    "execution": {
     "iopub.execute_input": "2023-10-18T21:25:39.115713Z",
     "iopub.status.busy": "2023-10-18T21:25:39.115455Z",
     "iopub.status.idle": "2023-10-18T21:25:39.119002Z",
     "shell.execute_reply": "2023-10-18T21:25:39.118575Z"
    }
   },
   "outputs": [],
   "source": [
    "# JADE\n",
    "hamstring_h5ad = \"/ceph/project/tendonhca/albrecht/003-snakemake/data/hamstring_integrated_annotated_res0p15_20220922.h5ad\"\n",
    "slides_h5ad = \"hamstring/concatenated.h5ad\"\n",
    "# create paths and names to results folders for reference regression and cell2location models\n",
    "RESULTS_FOLDERNAME = '/ceph/project/tendonhca/albrecht/003-snakemake/notebooks/hamstring-gpu'\n",
    "ref_run_name = f'{RESULTS_FOLDERNAME}/reference_signatures'\n",
    "run_name = f'{RESULTS_FOLDERNAME}/cell2location_map'"
   ]
  },
  {
   "cell_type": "code",
   "execution_count": null,
   "metadata": {
    "execution": {
     "iopub.execute_input": "2023-10-18T21:25:39.121008Z",
     "iopub.status.busy": "2023-10-18T21:25:39.120778Z",
     "iopub.status.idle": "2023-10-18T21:25:42.807437Z",
     "shell.execute_reply": "2023-10-18T21:25:42.806956Z"
    }
   },
   "outputs": [],
   "source": [
    "slides_concatenated = sc.read(slides_h5ad)\n",
    "slides_concatenated"
   ]
  },
  {
   "cell_type": "code",
   "execution_count": null,
   "metadata": {
    "execution": {
     "iopub.execute_input": "2023-10-18T21:25:42.809809Z",
     "iopub.status.busy": "2023-10-18T21:25:42.809553Z",
     "iopub.status.idle": "2023-10-18T21:25:43.725950Z",
     "shell.execute_reply": "2023-10-18T21:25:43.725466Z"
    }
   },
   "outputs": [],
   "source": [
    "adata_hamstring = sc.read(hamstring_h5ad)\n",
    "adata_hamstring"
   ]
  },
  {
   "cell_type": "markdown",
   "metadata": {},
   "source": [
    "Later, we figure out that there is not layer 'counts'.\n",
    "Here, I assign .X to the 'counts' layer."
   ]
  },
  {
   "cell_type": "code",
   "execution_count": null,
   "metadata": {
    "execution": {
     "iopub.execute_input": "2023-10-18T21:25:43.728440Z",
     "iopub.status.busy": "2023-10-18T21:25:43.728212Z",
     "iopub.status.idle": "2023-10-18T21:25:43.731902Z",
     "shell.execute_reply": "2023-10-18T21:25:43.731438Z"
    }
   },
   "outputs": [],
   "source": [
    "adata_hamstring.layers[\"counts\"] = adata_hamstring.X"
   ]
  },
  {
   "cell_type": "code",
   "execution_count": null,
   "metadata": {
    "execution": {
     "iopub.execute_input": "2023-10-18T21:25:43.734090Z",
     "iopub.status.busy": "2023-10-18T21:25:43.733864Z",
     "iopub.status.idle": "2023-10-18T21:25:43.740870Z",
     "shell.execute_reply": "2023-10-18T21:25:43.740368Z"
    }
   },
   "outputs": [],
   "source": [
    "adata_hamstring.obs['cell_type'].value_counts()"
   ]
  },
  {
   "cell_type": "code",
   "execution_count": null,
   "metadata": {
    "execution": {
     "iopub.execute_input": "2023-10-18T21:25:43.742812Z",
     "iopub.status.busy": "2023-10-18T21:25:43.742583Z",
     "iopub.status.idle": "2023-10-18T21:25:43.785030Z",
     "shell.execute_reply": "2023-10-18T21:25:43.784258Z"
    }
   },
   "outputs": [],
   "source": [
    "adata_hamstring.var"
   ]
  },
  {
   "cell_type": "code",
   "execution_count": null,
   "metadata": {
    "execution": {
     "iopub.execute_input": "2023-10-18T21:25:43.788529Z",
     "iopub.status.busy": "2023-10-18T21:25:43.788142Z",
     "iopub.status.idle": "2023-10-18T21:25:44.307960Z",
     "shell.execute_reply": "2023-10-18T21:25:44.307284Z"
    }
   },
   "outputs": [],
   "source": [
    "from cell2location.utils.filtering import filter_genes\n",
    "selected = filter_genes(adata_hamstring, cell_count_cutoff=30, #cell_percentage_cutoff2=0.03, \n",
    "                        nonz_mean_cutoff=1.12)"
   ]
  },
  {
   "cell_type": "code",
   "execution_count": null,
   "metadata": {
    "execution": {
     "iopub.execute_input": "2023-10-18T21:25:44.310358Z",
     "iopub.status.busy": "2023-10-18T21:25:44.310110Z",
     "iopub.status.idle": "2023-10-18T21:25:44.331926Z",
     "shell.execute_reply": "2023-10-18T21:25:44.331413Z"
    }
   },
   "outputs": [],
   "source": [
    "# filter the object\n",
    "adata_hamstring = adata_hamstring[:, selected].copy()\n",
    "adata_hamstring.var"
   ]
  },
  {
   "cell_type": "code",
   "execution_count": null,
   "metadata": {
    "execution": {
     "iopub.execute_input": "2023-10-18T21:25:44.334094Z",
     "iopub.status.busy": "2023-10-18T21:25:44.333853Z",
     "iopub.status.idle": "2023-10-18T21:25:44.371244Z",
     "shell.execute_reply": "2023-10-18T21:25:44.370744Z"
    }
   },
   "outputs": [],
   "source": [
    "adata_hamstring.obs"
   ]
  },
  {
   "cell_type": "code",
   "execution_count": null,
   "metadata": {
    "execution": {
     "iopub.execute_input": "2023-10-18T21:25:44.373490Z",
     "iopub.status.busy": "2023-10-18T21:25:44.373237Z",
     "iopub.status.idle": "2023-10-18T21:25:44.378742Z",
     "shell.execute_reply": "2023-10-18T21:25:44.378213Z"
    }
   },
   "outputs": [],
   "source": [
    "#adata_hamstring.obs['batch'].value_counts()\n",
    "adata_hamstring.obs['sex'].value_counts()\n",
    "#adata_hamstring.obs['sample'].value_counts()"
   ]
  },
  {
   "cell_type": "code",
   "execution_count": null,
   "metadata": {
    "execution": {
     "iopub.execute_input": "2023-10-18T21:25:44.380889Z",
     "iopub.status.busy": "2023-10-18T21:25:44.380640Z",
     "iopub.status.idle": "2023-10-18T21:25:44.384165Z",
     "shell.execute_reply": "2023-10-18T21:25:44.383610Z"
    }
   },
   "outputs": [],
   "source": [
    "adata_hamstring.layers"
   ]
  },
  {
   "cell_type": "code",
   "execution_count": null,
   "metadata": {
    "execution": {
     "iopub.execute_input": "2023-10-18T21:25:44.386617Z",
     "iopub.status.busy": "2023-10-18T21:25:44.386390Z",
     "iopub.status.idle": "2023-10-18T21:25:44.408051Z",
     "shell.execute_reply": "2023-10-18T21:25:44.407430Z"
    }
   },
   "outputs": [],
   "source": [
    "# prepare anndata for the regression model\n",
    "cell2location.models.RegressionModel.setup_anndata(adata=adata_hamstring,\n",
    "                        layer=\"counts\",\n",
    "                        # 10X reaction / sample / batch\n",
    "                        batch_key='sample',\n",
    "                        # cell type, covariate used for constructing signatures\n",
    "                        labels_key='cell_type',\n",
    "                        # multiplicative technical effects (platform, 3' vs 5', donor effect)\n",
    "                        categorical_covariate_keys=['batch', 'sex']\n",
    "                       )\n",
    "\n",
    "# create the regression model\n",
    "from cell2location.models import RegressionModel\n",
    "mod = RegressionModel(adata_hamstring)\n",
    "\n",
    "# view anndata_setup as a sanity check\n",
    "mod.view_anndata_setup()"
   ]
  },
  {
   "cell_type": "code",
   "execution_count": null,
   "metadata": {
    "execution": {
     "iopub.execute_input": "2023-10-18T21:25:44.410192Z",
     "iopub.status.busy": "2023-10-18T21:25:44.409957Z",
     "iopub.status.idle": "2023-10-18T21:25:44.452335Z",
     "shell.execute_reply": "2023-10-18T21:25:44.451662Z"
    }
   },
   "outputs": [],
   "source": [
    "%%time\n",
    "mod.train(max_epochs=250, use_gpu=True)"
   ]
  },
  {
   "cell_type": "code",
   "execution_count": null,
   "metadata": {
    "execution": {
     "iopub.execute_input": "2023-10-18T21:25:44.454788Z",
     "iopub.status.busy": "2023-10-18T21:25:44.454556Z",
     "iopub.status.idle": "2023-10-18T21:25:44.475007Z",
     "shell.execute_reply": "2023-10-18T21:25:44.474515Z"
    }
   },
   "outputs": [],
   "source": [
    "mod.plot_history(20)"
   ]
  },
  {
   "cell_type": "code",
   "execution_count": null,
   "metadata": {
    "execution": {
     "iopub.execute_input": "2023-10-18T21:25:44.477421Z",
     "iopub.status.busy": "2023-10-18T21:25:44.477036Z",
     "iopub.status.idle": "2023-10-18T21:25:44.498158Z",
     "shell.execute_reply": "2023-10-18T21:25:44.497581Z"
    }
   },
   "outputs": [],
   "source": [
    "# In this section, we export the estimated cell abundance (summary of the posterior distribution).\n",
    "adata_hamstring = mod.export_posterior(\n",
    "    adata_hamstring, sample_kwargs={'num_samples': 5000, 'batch_size': 2500, 'use_gpu': True}\n",
    ")\n",
    "\n",
    "# Save model\n",
    "mod.save(f\"{ref_run_name}\", overwrite=True)\n",
    "\n",
    "# Save anndata object with results\n",
    "adata_file = f\"{ref_run_name}/sc.h5ad\"\n",
    "adata_hamstring.write(adata_file)\n",
    "adata_file"
   ]
  },
  {
   "cell_type": "code",
   "execution_count": null,
   "metadata": {
    "execution": {
     "iopub.execute_input": "2023-10-18T21:25:44.500324Z",
     "iopub.status.busy": "2023-10-18T21:25:44.500078Z",
     "iopub.status.idle": "2023-10-18T21:25:44.520287Z",
     "shell.execute_reply": "2023-10-18T21:25:44.519688Z"
    }
   },
   "outputs": [],
   "source": [
    "mod.plot_QC()"
   ]
  },
  {
   "cell_type": "code",
   "execution_count": null,
   "metadata": {
    "execution": {
     "iopub.execute_input": "2023-10-18T21:25:44.522460Z",
     "iopub.status.busy": "2023-10-18T21:25:44.522223Z",
     "iopub.status.idle": "2023-10-18T21:25:44.524659Z",
     "shell.execute_reply": "2023-10-18T21:25:44.524096Z"
    }
   },
   "outputs": [],
   "source": [
    "# adata_file = f\"{ref_run_name}/sc.h5ad\"\n",
    "# adata_ref = sc.read_h5ad(adata_file)\n",
    "# mod = cell2location.models.RegressionModel.load(f\"{ref_run_name}\", adata_ref)"
   ]
  },
  {
   "cell_type": "code",
   "execution_count": null,
   "metadata": {
    "execution": {
     "iopub.execute_input": "2023-10-18T21:25:44.526720Z",
     "iopub.status.busy": "2023-10-18T21:25:44.526496Z",
     "iopub.status.idle": "2023-10-18T21:25:44.799414Z",
     "shell.execute_reply": "2023-10-18T21:25:44.798718Z"
    }
   },
   "outputs": [],
   "source": [
    "# export estimated expression in each cluster\n",
    "if 'means_per_cluster_mu_fg' in adata_hamstring.varm.keys():\n",
    "    inf_aver = adata_hamstring.varm['means_per_cluster_mu_fg'][[f'means_per_cluster_mu_fg_{i}'\n",
    "                                    for i in adata_hamstring.uns['mod']['factor_names']]].copy()\n",
    "else:\n",
    "    inf_aver = adata_hamstring.var[[f'means_per_cluster_mu_fg_{i}'\n",
    "                                    for i in adata_hamstring.uns['mod']['factor_names']]].copy()\n",
    "inf_aver.columns = adata_hamstring.uns['mod']['factor_names']\n",
    "inf_aver"
   ]
  },
  {
   "cell_type": "markdown",
   "metadata": {},
   "source": [
    "# Cell2Location Spatial Mapping"
   ]
  },
  {
   "cell_type": "code",
   "execution_count": null,
   "metadata": {
    "execution": {
     "iopub.execute_input": "2023-10-18T21:25:44.801999Z",
     "iopub.status.busy": "2023-10-18T21:25:44.801755Z",
     "iopub.status.idle": "2023-10-18T21:25:44.968360Z",
     "shell.execute_reply": "2023-10-18T21:25:44.967671Z"
    }
   },
   "outputs": [],
   "source": [
    "adata = sc.read_h5ad(slides_concatenated)\n",
    "adata"
   ]
  },
  {
   "cell_type": "code",
   "execution_count": null,
   "metadata": {
    "execution": {
     "iopub.execute_input": "2023-10-18T21:25:44.970578Z",
     "iopub.status.busy": "2023-10-18T21:25:44.970366Z",
     "iopub.status.idle": "2023-10-18T21:25:44.992085Z",
     "shell.execute_reply": "2023-10-18T21:25:44.991470Z"
    }
   },
   "outputs": [],
   "source": [
    "# find shared genes and subset both anndata and reference signatures\n",
    "intersect = np.intersect1d(adata.var_names, inf_aver.index)\n",
    "adata = adata[:, intersect].copy()\n",
    "inf_aver = inf_aver.loc[intersect, :].copy()\n",
    "\n",
    "# prepare anndata for cell2location model\n",
    "cell2location.models.Cell2location.setup_anndata(adata=adata, batch_key=\"sample\")"
   ]
  },
  {
   "cell_type": "code",
   "execution_count": null,
   "metadata": {
    "execution": {
     "iopub.execute_input": "2023-10-18T21:25:44.994199Z",
     "iopub.status.busy": "2023-10-18T21:25:44.993998Z",
     "iopub.status.idle": "2023-10-18T21:25:45.013870Z",
     "shell.execute_reply": "2023-10-18T21:25:45.013419Z"
    }
   },
   "outputs": [],
   "source": [
    "adata"
   ]
  },
  {
   "cell_type": "code",
   "execution_count": null,
   "metadata": {
    "execution": {
     "iopub.execute_input": "2023-10-18T21:25:45.016207Z",
     "iopub.status.busy": "2023-10-18T21:25:45.015911Z",
     "iopub.status.idle": "2023-10-18T21:25:45.034685Z",
     "shell.execute_reply": "2023-10-18T21:25:45.034197Z"
    }
   },
   "outputs": [],
   "source": [
    "adata.raw"
   ]
  },
  {
   "cell_type": "code",
   "execution_count": null,
   "metadata": {
    "execution": {
     "iopub.execute_input": "2023-10-18T21:25:45.036938Z",
     "iopub.status.busy": "2023-10-18T21:25:45.036680Z",
     "iopub.status.idle": "2023-10-18T21:25:45.056774Z",
     "shell.execute_reply": "2023-10-18T21:25:45.056239Z"
    }
   },
   "outputs": [],
   "source": [
    "# create and train the model\n",
    "mod2 = cell2location.models.Cell2location(\n",
    "    adata, \n",
    "    cell_state_df=inf_aver,\n",
    "    # the expected average cell abundance: tissue-dependent\n",
    "    # hyper-prior which can be estimated from paired histology:\n",
    "    N_cells_per_location=17,\n",
    "    # hyperparameter controlling normalisation of\n",
    "    # within-experiment variation in RNA detection:\n",
    "    detection_alpha=20\n",
    ")\n",
    "mod2.view_anndata_setup()"
   ]
  },
  {
   "cell_type": "code",
   "execution_count": null,
   "metadata": {
    "execution": {
     "iopub.execute_input": "2023-10-18T21:25:45.058948Z",
     "iopub.status.busy": "2023-10-18T21:25:45.058710Z",
     "iopub.status.idle": "2023-10-18T21:25:45.062155Z",
     "shell.execute_reply": "2023-10-18T21:25:45.061723Z"
    }
   },
   "outputs": [],
   "source": [
    "import torch\n",
    "torch.set_float32_matmul_precision('high')"
   ]
  },
  {
   "cell_type": "code",
   "execution_count": null,
   "metadata": {
    "execution": {
     "iopub.execute_input": "2023-10-18T21:25:45.064236Z",
     "iopub.status.busy": "2023-10-18T21:25:45.063990Z",
     "iopub.status.idle": "2023-10-18T21:25:45.087962Z",
     "shell.execute_reply": "2023-10-18T21:25:45.087432Z"
    }
   },
   "outputs": [],
   "source": [
    "mod2.train(max_epochs=15000,\n",
    "          # train using full data (batch_size=None)\n",
    "          batch_size=None,\n",
    "          # use all data points in training because\n",
    "          # we need to estimate cell abundance at all locations\n",
    "          train_size=1,\n",
    "          use_gpu=True, log_every_n_steps=1\n",
    "         )\n",
    "\n",
    "\n",
    "# plot ELBO loss history during training, removing first 100 epochs from the plot\n",
    "mod2.plot_history(1000)\n",
    "plt.legend(labels=['full data training']);"
   ]
  },
  {
   "cell_type": "code",
   "execution_count": null,
   "metadata": {},
   "outputs": [],
   "source": []
  }
 ],
 "metadata": {
  "kernelspec": {
   "display_name": "Python 3",
   "language": "python",
   "name": "python3"
  },
  "language_info": {
   "codemirror_mode": {
    "name": "ipython",
    "version": 3
   },
   "file_extension": ".py",
   "mimetype": "text/x-python",
   "name": "python",
   "nbconvert_exporter": "python",
   "pygments_lexer": "ipython3",
   "version": "3.11.3"
  }
 },
 "nbformat": 4,
 "nbformat_minor": 2
}
