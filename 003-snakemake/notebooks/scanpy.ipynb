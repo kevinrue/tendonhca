{
 "cells": [
  {
   "attachments": {},
   "cell_type": "markdown",
   "metadata": {},
   "source": [
    "Based on <https://cell2location.readthedocs.io/en/latest/notebooks/cell2location_short_demo.html>"
   ]
  },
  {
   "cell_type": "code",
   "execution_count": null,
   "metadata": {},
   "outputs": [],
   "source": [
    "import os\n",
    "import re\n",
    "\n",
    "import IPython\n",
    "\n",
    "import pandas as pd\n",
    "\n",
    "import scanpy as sc\n",
    "\n",
    "import numpy as np\n",
    "import matplotlib as mpl\n",
    "import matplotlib.pyplot as plt\n",
    "import seaborn as sns\n",
    "\n",
    "# silence scanpy that prints a lot of warnings\n",
    "import warnings\n",
    "warnings.filterwarnings('ignore')"
   ]
  },
  {
   "cell_type": "code",
   "execution_count": null,
   "metadata": {},
   "outputs": [],
   "source": [
    "# Test configuration\n",
    "os.chdir(\"/ceph/project/tendonhca/albrecht/003-snakemake/\")\n",
    "sample_name = \"OMB1277_SSP_Enth_H\"\n",
    "genes_gtf = \"transcriptome/refdata-gex-GRCh38-2020-A/genes/genes.gtf\""
   ]
  },
  {
   "cell_type": "code",
   "execution_count": null,
   "metadata": {},
   "outputs": [],
   "source": [
    "genes_dict = {}\n",
    "with open(genes_gtf, \"rt\") as stream_in:\n",
    "    for line in stream_in:\n",
    "        if line.startswith(\"#\"):\n",
    "            continue\n",
    "        else:\n",
    "            line_data = line.strip().split(\"\\t\")\n",
    "            if line_data[2] == \"gene\":\n",
    "                gene_name = re.search(r'gene_name \\\"(.+?)\\\";', line_data[8]).group(1)\n",
    "                gene_id = re.search(r'gene_id \\\"(.+?)\\\";', line_data[8]).group(1)\n",
    "                genes_dict[gene_id] = {\"gene_name\": gene_name, \"seqname\": line_data[0]}\n",
    "genes_df = pd.DataFrame.from_dict(genes_dict, orient=\"index\")\n",
    "genes_df.head()"
   ]
  },
  {
   "cell_type": "code",
   "execution_count": null,
   "metadata": {},
   "outputs": [],
   "source": [
    "gene_symbols_mt = genes_df[genes_df[\"seqname\"] == \"chrM\"][\"gene_name\"].tolist()\n",
    "len(gene_symbols_mt)"
   ]
  },
  {
   "cell_type": "code",
   "execution_count": null,
   "metadata": {},
   "outputs": [],
   "source": [
    "gene_symbols_ribosomal = [gene_symbol for gene_symbol in genes_df[\"gene_name\"] if gene_symbol.startswith((\"RPL\", \"RPS\")) ]\n",
    "len(gene_symbols_ribosomal)"
   ]
  },
  {
   "cell_type": "code",
   "execution_count": null,
   "metadata": {},
   "outputs": [],
   "source": [
    "def read_and_qc(sample_name):\n",
    "    r\"\"\" This function reads the data for one 10X spatial experiment into the anndata object.\n",
    "    It also calculates QC metrics. Modify this function if required by your workflow.\n",
    "    \n",
    "    :param sample_name: Name of the sample\n",
    "    \"\"\"\n",
    "    \n",
    "    adata = sc.read_visium(\"results/spaceranger_count/\" + str(sample_name) + '/outs',\n",
    "                           count_file='filtered_feature_bc_matrix.h5', load_images=True)\n",
    "    adata.obs['sample'] = sample_name\n",
    "    adata.var['SYMBOL'] = adata.var_names\n",
    "    adata.var.rename(columns={'gene_ids': 'ENSEMBL'}, inplace=True)\n",
    "    adata.var_names = adata.var['ENSEMBL']\n",
    "    adata.var.drop(columns='ENSEMBL', inplace=True)\n",
    "    \n",
    "    # Calculate QC metrics\n",
    "    from scipy.sparse import csr_matrix\n",
    "    adata.X = adata.X.toarray()\n",
    "    sc.pp.calculate_qc_metrics(adata, inplace=True)\n",
    "    adata.X = csr_matrix(adata.X)\n",
    "    adata.var['mt'] = [gene in gene_symbols_mt for gene in adata.var['SYMBOL']]\n",
    "    adata.obs['mt_frac'] = adata[:, adata.var['mt'].tolist()].X.sum(1).A.squeeze()/adata.obs['total_counts']\n",
    "    adata.var['ribosomal'] = [gene in gene_symbols_ribosomal for gene in adata.var['SYMBOL']]\n",
    "    adata.obs['ribosomal_frac'] = adata[:, adata.var['ribosomal'].tolist()].X.sum(1).A.squeeze()/adata.obs['total_counts']\n",
    "    \n",
    "    # add sample name to obs names\n",
    "    adata.obs[\"sample\"] = [str(i) for i in adata.obs['sample']]\n",
    "    adata.obs_names = adata.obs[\"sample\"] \\\n",
    "                          + '_' + adata.obs_names\n",
    "    adata.obs.index.name = 'spot_id'\n",
    "    \n",
    "    return adata\n",
    "\n",
    "def select_slide(adata, s, s_col='sample'):\n",
    "    r\"\"\" This function selects the data for one slide from the spatial anndata object.\n",
    "\n",
    "    :param adata: Anndata object with multiple spatial experiments\n",
    "    :param s: name of selected experiment\n",
    "    :param s_col: column in adata.obs listing experiment name for each location\n",
    "    \"\"\"\n",
    "    \n",
    "    slide = adata[adata.obs[s_col].isin([s]), :]\n",
    "    s_keys = list(slide.uns['spatial'].keys())\n",
    "    s_spatial = np.array(s_keys)[[s in k for k in s_keys]][0]\n",
    "    \n",
    "    slide.uns['spatial'] = {s_spatial: slide.uns['spatial'][s_spatial]}\n",
    "    \n",
    "    return slide"
   ]
  },
  {
   "cell_type": "code",
   "execution_count": null,
   "metadata": {},
   "outputs": [],
   "source": [
    "# Read the data into anndata objects#\n",
    "adata = read_and_qc(sample_name)\n",
    "adata"
   ]
  },
  {
   "attachments": {},
   "cell_type": "markdown",
   "metadata": {},
   "source": [
    "adata.lobs"
   ]
  },
  {
   "cell_type": "code",
   "execution_count": null,
   "metadata": {},
   "outputs": [],
   "source": [
    "# mitochondria-encoded (MT) genes should be removed for spatial mapping\n",
    "adata.obsm['mt'] = adata[:, adata.var['mt'].values].X.toarray()\n",
    "adata = adata[:, ~adata.var['mt'].values]\n",
    "adata"
   ]
  },
  {
   "cell_type": "code",
   "execution_count": null,
   "metadata": {},
   "outputs": [],
   "source": [
    "# remove ribosomal genes\n",
    "adata.obsm['ribosomal'] = adata[:, adata.var['ribosomal'].values].X.toarray()\n",
    "adata = adata[:, ~adata.var['ribosomal'].values]\n",
    "adata"
   ]
  },
  {
   "cell_type": "code",
   "execution_count": null,
   "metadata": {},
   "outputs": [],
   "source": [
    "fig, axs = plt.subplots(2, 4, figsize=(15, 6))\n",
    "slide = select_slide(adata, sample_name)\n",
    "sns.distplot(slide.obs['total_counts'],\n",
    "                kde=False, ax = axs[0, 0])\n",
    "axs[0, 0].set_xlim(0, adata.obs['total_counts'].max())\n",
    "axs[0, 0].set_xlabel(f'total_counts | {sample_name}')\n",
    "x_max = np.quantile(slide.obs['total_counts'], .9)\n",
    "sns.distplot(slide.obs['total_counts']\\\n",
    "                [slide.obs['total_counts']<x_max],\n",
    "                kde=False, bins=40, ax = axs[0, 1])\n",
    "axs[0, 1].set_xlim(0, x_max)\n",
    "axs[0, 1].set_xlabel(f'total_counts | {sample_name}')\n",
    "\n",
    "sns.distplot(slide.obs['n_genes_by_counts'],\n",
    "                kde=False, bins=60, ax = axs[0, 2])\n",
    "axs[0, 2].set_xlim(0, adata.obs['n_genes_by_counts'].max())\n",
    "axs[0, 2].set_xlabel(f'n_genes_by_counts | {sample_name}')\n",
    "x_max = np.quantile(slide.obs['n_genes_by_counts'], .9)\n",
    "sns.distplot(slide.obs['n_genes_by_counts']\\\n",
    "                [slide.obs['n_genes_by_counts']<x_max],\n",
    "                kde=False, bins=60, ax = axs[0, 3])\n",
    "axs[0, 3].set_xlim(0, x_max)\n",
    "axs[0, 3].set_xlabel(f'n_genes_by_counts | {sample_name}')\n",
    "\n",
    "sns.distplot(slide.obs['mt_frac'],\n",
    "                kde=False, bins=60, ax = axs[1, 0])\n",
    "axs[1, 0].set_xlim(0, adata.obs['mt_frac'].max())\n",
    "axs[1, 0].set_xlabel(f'mt_frac | {sample_name}')\n",
    "x_max = np.quantile(slide.obs['mt_frac'], .9)\n",
    "sns.distplot(slide.obs['mt_frac']\\\n",
    "                [slide.obs['mt_frac']<x_max],\n",
    "                kde=False, bins=60, ax = axs[1, 1])\n",
    "axs[1, 1].set_xlim(0, x_max)\n",
    "axs[1, 1].set_xlabel(f'mt_frac | {sample_name}')\n",
    "\n",
    "sns.distplot(slide.obs['ribosomal_frac'],\n",
    "                kde=False, bins=60, ax = axs[1, 2])\n",
    "axs[1, 2].set_xlim(0, adata.obs['ribosomal_frac'].max())\n",
    "axs[1, 2].set_xlabel(f'ribosomal_frac | {sample_name}')\n",
    "x_max = np.quantile(slide.obs['ribosomal_frac'], .9)\n",
    "sns.distplot(slide.obs['ribosomal_frac']\\\n",
    "                [slide.obs['ribosomal_frac']<x_max],\n",
    "                kde=False, bins=60, ax = axs[1, 3])\n",
    "axs[1, 3].set_xlim(0, x_max)\n",
    "axs[1, 3].set_xlabel(f'ribosomal_frac | {sample_name}')\n",
    "    \n",
    "plt.tight_layout()"
   ]
  },
  {
   "cell_type": "code",
   "execution_count": null,
   "metadata": {},
   "outputs": [],
   "source": [
    "slide = select_slide(adata, sample_name)\n",
    "\n",
    "with mpl.rc_context({'figure.figsize': [6,7],\n",
    "                     'axes.facecolor': 'white'}):\n",
    "    sc.pl.spatial(slide, img_key = \"hires\", cmap='magma', ncols = 3,\n",
    "                  library_id=sample_name,\n",
    "                  color=['log1p_total_counts', 'total_counts', 'n_genes_by_counts', 'mt_frac', 'ribosomal_frac'], size=1,\n",
    "                  vmin = 0, vmax='p90.0',\n",
    "                  gene_symbols='SYMBOL', show=False, return_fig=True)"
   ]
  },
  {
   "cell_type": "code",
   "execution_count": null,
   "metadata": {},
   "outputs": [],
   "source": [
    "slide = select_slide(adata, sample_name)\n",
    "\n",
    "with mpl.rc_context({'figure.figsize': [6,7],\n",
    "                     'axes.facecolor': 'white'}):\n",
    "    sc.pl.spatial(slide, img_key = \"hires\", cmap='magma',\n",
    "                  library_id=sample_name,\n",
    "                  color=['total_counts', 'n_genes_by_counts', 'mt_frac', 'ribosomal_frac'], size=1, vmax='p90.0',\n",
    "                  gene_symbols='SYMBOL', show=False, return_fig=True)"
   ]
  },
  {
   "cell_type": "code",
   "execution_count": null,
   "metadata": {},
   "outputs": [],
   "source": [
    "IPython.display.Image(filename='images/omb1277_ssp_enth_h.jpeg', width=500)"
   ]
  },
  {
   "cell_type": "code",
   "execution_count": null,
   "metadata": {},
   "outputs": [],
   "source": [
    "adata_normalized = adata.copy()\n",
    "sc.pp.normalize_total(adata_normalized)\n",
    "adata_normalized_X_feature_mean = np.array(adata_normalized.X.mean(axis=0)).flatten()\n",
    "d = {'SYMBOL': adata_normalized.var['SYMBOL'], 'mean': adata_normalized_X_feature_mean}\n",
    "adata_normalized_X_feature_mean = pd.DataFrame(d, index=adata_normalized.var_names).sort_values(by=['mean'], ascending=False)\n",
    "adata_normalized_X_feature_mean.head()"
   ]
  },
  {
   "cell_type": "code",
   "execution_count": null,
   "metadata": {},
   "outputs": [],
   "source": [
    "with mpl.rc_context({'figure.figsize': [6,7],\n",
    "                     'axes.facecolor': 'black'}):\n",
    "    sc.pl.spatial(adata_normalized,\n",
    "                  color=adata_normalized_X_feature_mean.head(12)['SYMBOL'], img_key=None, size=1,\n",
    "                  vmin=0, cmap='magma', vmax='p90.0',\n",
    "                  gene_symbols='SYMBOL'\n",
    "                 )\n"
   ]
  },
  {
   "cell_type": "code",
   "execution_count": null,
   "metadata": {},
   "outputs": [],
   "source": [
    "markers_df = pd.read_csv('data/curated_markers.tsv', sep=\"\\t\")\n",
    "markers_df.head()"
   ]
  },
  {
   "cell_type": "code",
   "execution_count": null,
   "metadata": {},
   "outputs": [],
   "source": [
    "cell_type = 'Fibroblast'\n",
    "markers_symbols = markers_df[markers_df['cell_type'] == cell_type]['gene_symbol']\n",
    "markers_symbols = set(markers_symbols).intersection(adata_normalized.var['SYMBOL'])\n",
    "with mpl.rc_context({'figure.figsize': [6,7],\n",
    "                     'axes.facecolor': 'black'}):\n",
    "    sc.pl.spatial(adata_normalized,\n",
    "                  color=markers_symbols, img_key=None, size=1,\n",
    "                  vmin=0, cmap='magma', vmax='p90.0',\n",
    "                  gene_symbols='SYMBOL'\n",
    "                 )"
   ]
  },
  {
   "cell_type": "code",
   "execution_count": null,
   "metadata": {},
   "outputs": [],
   "source": [
    "cell_type = 'Adipocyte'\n",
    "markers_symbols = markers_df[markers_df['cell_type'] == cell_type]['gene_symbol']\n",
    "markers_symbols = set(markers_symbols).intersection(adata_normalized.var['SYMBOL'])\n",
    "with mpl.rc_context({'figure.figsize': [6,7],\n",
    "                     'axes.facecolor': 'black'}):\n",
    "    sc.pl.spatial(adata_normalized,\n",
    "                  color=markers_symbols, img_key=None, size=1,\n",
    "                  vmin=0, cmap='magma', vmax='p90.0',\n",
    "                  gene_symbols='SYMBOL'\n",
    "                 )"
   ]
  },
  {
   "cell_type": "code",
   "execution_count": null,
   "metadata": {},
   "outputs": [],
   "source": [
    "cell_type = 'Skeletal muscle'\n",
    "markers_symbols = markers_df[markers_df['cell_type'] == cell_type]['gene_symbol']\n",
    "markers_symbols = set(markers_symbols).intersection(adata_normalized.var['SYMBOL'])\n",
    "with mpl.rc_context({'figure.figsize': [6,7],\n",
    "                     'axes.facecolor': 'black'}):\n",
    "    sc.pl.spatial(adata_normalized,\n",
    "                  color=markers_symbols, img_key=None, size=1,\n",
    "                  vmin=0, cmap='magma', vmax='p90.0',\n",
    "                  gene_symbols='SYMBOL'\n",
    "                 )"
   ]
  },
  {
   "cell_type": "code",
   "execution_count": null,
   "metadata": {},
   "outputs": [],
   "source": [
    "cell_type = 'Vascular endothelium'\n",
    "markers_symbols = markers_df[markers_df['cell_type'] == cell_type]['gene_symbol']\n",
    "markers_symbols = set(markers_symbols).intersection(adata_normalized.var['SYMBOL'])\n",
    "with mpl.rc_context({'figure.figsize': [6,7],\n",
    "                     'axes.facecolor': 'black'}):\n",
    "    sc.pl.spatial(adata_normalized,\n",
    "                  color=markers_symbols, img_key=None, size=1,\n",
    "                  vmin=0, cmap='magma', vmax='p90.0',\n",
    "                  gene_symbols='SYMBOL'\n",
    "                 )"
   ]
  },
  {
   "attachments": {},
   "cell_type": "markdown",
   "metadata": {},
   "source": [
    "## Construct and examine UMAP of locations\n",
    "\n",
    "As per <https://cell2location.readthedocs.io/en/latest/notebooks/cell2location_short_demo.html>"
   ]
  },
  {
   "cell_type": "code",
   "execution_count": null,
   "metadata": {},
   "outputs": [],
   "source": [
    "adata_vis = adata.copy()\n",
    "adata_vis.raw = adata_vis\n",
    "\n",
    "adata_vis_plt = adata_vis.copy()\n",
    "\n",
    "# NOTE (Kevin): no normalisation to total count per spot?!\n",
    "sc.pp.normalize_total(adata_vis_plt, target_sum=1e4)\n",
    "\n",
    "# Log-transform (log(data + 1))\n",
    "sc.pp.log1p(adata_vis_plt)\n",
    "\n",
    "# Find highly variable genes within each sample\n",
    "adata_vis_plt.var['highly_variable'] = False\n",
    "sc.pp.highly_variable_genes(adata_vis_plt, min_mean=0.05, max_mean=5, min_disp=1)\n",
    "\n",
    "hvg_list = list(adata_vis_plt.var_names[adata_vis_plt.var['highly_variable']])\n",
    "adata_vis_plt.var.loc[hvg_list, 'highly_variable'] = True\n",
    "\n",
    "sc.pl.highly_variable_genes(adata_vis_plt)"
   ]
  },
  {
   "cell_type": "code",
   "execution_count": null,
   "metadata": {},
   "outputs": [],
   "source": [
    "len(hvg_list)"
   ]
  },
  {
   "cell_type": "code",
   "execution_count": null,
   "metadata": {},
   "outputs": [],
   "source": [
    "# Scale the data ( (data - mean) / sd )\n",
    "sc.pp.scale(adata_vis_plt, max_value=10)\n",
    "# PCA, KNN construction, UMAP\n",
    "sc.tl.pca(adata_vis_plt, svd_solver='arpack', n_comps=50, use_highly_variable=True)\n",
    "# ... continued below ..."
   ]
  },
  {
   "attachments": {},
   "cell_type": "markdown",
   "metadata": {},
   "source": [
    "QC of PCA prior to choosing number of components"
   ]
  },
  {
   "cell_type": "code",
   "execution_count": null,
   "metadata": {},
   "outputs": [],
   "source": [
    "plot_data = pd.DataFrame({\n",
    "    'PC': range(len(adata_vis_plt.uns['pca']['variance_ratio'])),\n",
    "    'variance_ratio': adata_vis_plt.uns['pca']['variance_ratio'],\n",
    "    })\n",
    "plot_data.head()\n",
    "plot_data.plot.scatter(x='PC', y='variance_ratio')"
   ]
  },
  {
   "cell_type": "code",
   "execution_count": null,
   "metadata": {},
   "outputs": [],
   "source": [
    "sc.pp.neighbors(adata_vis_plt, n_neighbors = 10, n_pcs = 10, metric='cosine')\n",
    "sc.tl.umap(adata_vis_plt, min_dist = 0.3, spread = 1)\n",
    "\n",
    "with mpl.rc_context({'figure.figsize': [8, 8],\n",
    "                     'axes.facecolor': 'white'}):\n",
    "    sc.pl.umap(adata_vis_plt, color=['sample'], size=30,\n",
    "               color_map = 'RdPu', ncols = 1, #legend_loc='on data',\n",
    "               legend_fontsize=10)"
   ]
  }
 ],
 "metadata": {
  "kernelspec": {
   "display_name": "Python 3",
   "language": "python",
   "name": "python3"
  },
  "language_info": {
   "codemirror_mode": {
    "name": "ipython",
    "version": 3
   },
   "file_extension": ".py",
   "mimetype": "text/x-python",
   "name": "python",
   "nbconvert_exporter": "python",
   "pygments_lexer": "ipython3",
   "version": "3.9.16"
  },
  "orig_nbformat": 4
 },
 "nbformat": 4,
 "nbformat_minor": 2
}
