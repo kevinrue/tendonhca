{
 "cells": [
  {
   "cell_type": "code",
   "execution_count": null,
   "metadata": {},
   "outputs": [],
   "source": [
    "import os\n",
    "import scanpy as sc\n",
    "import squidpy as sq\n",
    "import numpy as np\n",
    "import seaborn as sns\n",
    "import matplotlib.pyplot as plt"
   ]
  },
  {
   "cell_type": "code",
   "execution_count": null,
   "metadata": {},
   "outputs": [],
   "source": [
    "#os.getcwd()\n",
    "os.chdir(\"/ceph/project/tendonhca/albrecht/003-snakemake/\")"
   ]
  },
  {
   "cell_type": "code",
   "execution_count": null,
   "metadata": {},
   "outputs": [],
   "source": [
    "sample_names = [\"OMB1277_SSP_Enth_H\", \"OMB1541_GluMed_MTJ_H\"]"
   ]
  },
  {
   "cell_type": "code",
   "execution_count": null,
   "metadata": {},
   "outputs": [],
   "source": [
    "def read_and_qc(sample_name):\n",
    "    r\"\"\" This function reads the data for one 10X spatial experiment into the anndata object.\n",
    "    It also calculates QC metrics. Modify this function if required by your workflow.\n",
    "    \n",
    "    :param sample_name: Name of the sample\n",
    "    \"\"\"\n",
    "    \n",
    "    adata = sc.read_visium(\"results/spaceranger_count/\" + str(sample_name) + '/outs',\n",
    "                           count_file='filtered_feature_bc_matrix.h5', load_images=True)\n",
    "    adata.obs['sample'] = sample_name\n",
    "    adata.var['SYMBOL'] = adata.var_names\n",
    "    adata.var.rename(columns={'gene_ids': 'ENSEMBL'}, inplace=True)\n",
    "    adata.var_names = adata.var['ENSEMBL']\n",
    "    adata.var.drop(columns='ENSEMBL', inplace=True)\n",
    "    \n",
    "    # Calculate QC metrics\n",
    "    from scipy.sparse import csr_matrix\n",
    "    adata.X = adata.X.toarray()\n",
    "    sc.pp.calculate_qc_metrics(adata, inplace=True)\n",
    "    adata.X = csr_matrix(adata.X)\n",
    "    adata.var['mt'] = [gene.startswith('MT-') for gene in adata.var['SYMBOL']]\n",
    "    adata.var[\"ribo\"] = adata.var['SYMBOL'].str.startswith((\"RPS\", \"RPL\"))\n",
    "    adata.var[\"mtrnr\"] = adata.var['SYMBOL'].str.startswith((\"MTRNR\"))\n",
    "    adata.obs['mt_frac'] = adata[:, adata.var['mt'].tolist()].X.sum(1).A.squeeze()/adata.obs['total_counts']\n",
    "    \n",
    "    # add sample name to obs names\n",
    "    adata.obs[\"sample\"] = [str(i) for i in adata.obs['sample']]\n",
    "    adata.obs_names = adata.obs[\"sample\"] \\\n",
    "                          + '_' + adata.obs_names\n",
    "    adata.obs.index.name = 'spot_id'\n",
    "    \n",
    "    return adata\n",
    "\n",
    "def select_slide(adata, s, s_col='sample'):\n",
    "    r\"\"\" This function selects the data for one slide from the spatial anndata object.\n",
    "\n",
    "    :param adata: Anndata object with multiple spatial experiments\n",
    "    :param s: name of selected experiment\n",
    "    :param s_col: column in adata.obs listing experiment name for each location\n",
    "    \"\"\"\n",
    "    \n",
    "    slide = adata[adata.obs[s_col].isin([s]), :]\n",
    "    s_keys = list(slide.uns['spatial'].keys())\n",
    "    s_spatial = np.array(s_keys)[[s in k for k in s_keys]][0]\n",
    "    \n",
    "    slide.uns['spatial'] = {s_spatial: slide.uns['spatial'][s_spatial]}\n",
    "    \n",
    "    return slide"
   ]
  },
  {
   "cell_type": "code",
   "execution_count": null,
   "metadata": {},
   "outputs": [],
   "source": [
    "# Read the data into anndata objects\n",
    "slides = []\n",
    "for i in sample_names:\n",
    "    slides.append(read_and_qc(i))"
   ]
  },
  {
   "cell_type": "code",
   "execution_count": null,
   "metadata": {},
   "outputs": [],
   "source": [
    "for adata in slides:\n",
    "    adata.var_names_make_unique()\n",
    "    sc.pp.calculate_qc_metrics(adata, qc_vars=[\"mt\", \"ribo\"], inplace=True)"
   ]
  },
  {
   "cell_type": "code",
   "execution_count": null,
   "metadata": {},
   "outputs": [],
   "source": [
    "for adata in slides:\n",
    "    g = sns.displot(adata.obs[\"total_counts\"], kde=False)\n",
    "    g.fig.suptitle(adata.obs['sample'][0])\n",
    "    g = sns.displot(adata.obs[\"total_counts\"][adata.obs[\"total_counts\"] < 10000], kde=False, bins=40)\n",
    "    g.fig.suptitle(adata.obs['sample'][0])\n",
    "    g = sns.displot(adata.obs[\"n_genes_by_counts\"], kde=False, bins=60)\n",
    "    g.fig.suptitle(adata.obs['sample'][0])\n",
    "    g = sns.displot(adata.obs[\"n_genes_by_counts\"][adata.obs[\"n_genes_by_counts\"] < 4000], kde=False, bins=60)\n",
    "    g.fig.suptitle(adata.obs['sample'][0])"
   ]
  },
  {
   "cell_type": "code",
   "execution_count": null,
   "metadata": {},
   "outputs": [],
   "source": [
    "sc.pp.filter_cells(slides[0], min_counts=500)\n",
    "sc.pp.filter_cells(slides[0], max_counts=10000)\n",
    "sc.pp.filter_genes(slides[0], min_cells=10)\n",
    "\n",
    "sc.pp.filter_cells(slides[1], min_counts=100)\n",
    "sc.pp.filter_cells(slides[1], max_counts=8000)\n",
    "sc.pp.filter_genes(slides[1], min_cells=10)"
   ]
  },
  {
   "cell_type": "code",
   "execution_count": null,
   "metadata": {},
   "outputs": [],
   "source": [
    "for adata in slides:\n",
    "    sc.pl.violin(adata, 'mt_frac', xlabel=adata.obs[\"sample\"][0], ylabel=\"mt_frac\")"
   ]
  },
  {
   "cell_type": "code",
   "execution_count": null,
   "metadata": {},
   "outputs": [],
   "source": [
    "for idx, adata in enumerate(slides):\n",
    "    print(f\"Sample: {adata.obs['sample'][0]}\")\n",
    "    print(f\"#genes before MT filter: {adata.n_vars}\")\n",
    "    \n",
    "    # remove MT genes for spatial mapping (keeping their counts in the object)\n",
    "    adata.obsm['MT'] = adata[:, adata.var['mt'].values].X.toarray()\n",
    "    slides[idx] = adata[:, ~adata.var['mt'].values]\n",
    "    print(f\"#genes after MT filter: {slides[idx].n_vars}\")\n",
    "    print(\"==============================\")"
   ]
  },
  {
   "cell_type": "code",
   "execution_count": null,
   "metadata": {},
   "outputs": [],
   "source": [
    "for idx, adata in enumerate(slides):\n",
    "    print(f\"Sample: {adata.obs['sample'][0]}\")\n",
    "    print(f\"#genes before MTrnr filter: {adata.n_vars}\")\n",
    "    adata.obsm['MTRNR'] = adata[:, adata.var['mtrnr'].values].X.toarray()\n",
    "    slides[idx] = adata[:, ~adata.var['mtrnr'].values]\n",
    "    print(f\"#genes after MTrnr filter: {slides[idx].n_vars}\")\n",
    "    print(\"==============================\")"
   ]
  },
  {
   "cell_type": "code",
   "execution_count": null,
   "metadata": {},
   "outputs": [],
   "source": [
    "for idx, adata in enumerate(slides):\n",
    "    print(f\"Sample: {adata.obs['sample'][0]}\")\n",
    "    print(f\"#genes before RIBO filter: {adata.n_vars}\")\n",
    "    adata.obsm['ribo'] = adata[:, adata.var['ribo'].values].X.toarray()\n",
    "    slides[idx] = adata[:, ~adata.var['ribo'].values]\n",
    "    print(f\"#genes after RIBO filter: {slides[idx].n_vars}\")\n",
    "    print(\"==============================\")"
   ]
  },
  {
   "cell_type": "code",
   "execution_count": null,
   "metadata": {},
   "outputs": [],
   "source": [
    "for idx, adata in enumerate(slides):\n",
    "    slides[idx].layers['counts'] = adata.X.copy()\n",
    "    sc.pp.normalize_total(adata, inplace=True)\n",
    "    sc.pp.log1p(adata)\n",
    "    slides[idx].layers['normcounts'] = adata.X.copy()\n",
    "    sc.pp.highly_variable_genes(adata, flavor=\"cell_ranger\", n_top_genes=2000)"
   ]
  },
  {
   "cell_type": "code",
   "execution_count": null,
   "metadata": {},
   "outputs": [],
   "source": [
    "for adata in slides:\n",
    "    sc.pp.scale(adata)\n",
    "    sc.pp.pca(adata)\n",
    "    sc.pp.neighbors(adata)\n",
    "    sc.tl.umap(adata)\n",
    "    sc.tl.leiden(adata, key_added=\"clusters\")"
   ]
  },
  {
   "cell_type": "code",
   "execution_count": null,
   "metadata": {},
   "outputs": [],
   "source": [
    "plt.rcParams[\"figure.figsize\"] = (4, 4)\n",
    "for adata in slides:\n",
    "    name = adata.obs['sample'][0]\n",
    "    sc.pl.umap(adata, color=[\"total_counts\", \"n_genes_by_counts\", \"clusters\"], wspace=0.4,\n",
    "               save=f'_{name}_countsAndClusters_umaps.svg')"
   ]
  },
  {
   "cell_type": "code",
   "execution_count": null,
   "metadata": {},
   "outputs": [],
   "source": [
    "plt.rcParams[\"figure.figsize\"] = (8, 8)\n",
    "for adata in slides:\n",
    "    name = adata.obs['sample'][0]\n",
    "    sc.pl.spatial(adata, img_key=\"hires\", color=[\"total_counts\", \"n_genes_by_counts\"], vmax='p95.0',\n",
    "                  save=f'_{name}_counts.svg')"
   ]
  },
  {
   "cell_type": "code",
   "execution_count": null,
   "metadata": {},
   "outputs": [],
   "source": [
    "for adata in slides:\n",
    "    name = adata.obs['sample'][0]\n",
    "    sq.gr.spatial_neighbors(adata, coord_type='generic', radius=3.0)\n",
    "    sq.pl.spatial_scatter(adata, shape='circle', color='clusters', img_alpha=0.8,\n",
    "                  frameon=False, figsize=(7, 3.5),\n",
    "                  size=1.5, connectivity_key='spatial_connectivities', edges_width=2,\n",
    "                  save=f'_{name}_connectivities_clusters1_spatialmap.svg'\n",
    "                 )"
   ]
  },
  {
   "cell_type": "code",
   "execution_count": null,
   "metadata": {},
   "outputs": [],
   "source": [
    "for adata in slides:\n",
    "    name = adata.obs['sample'][0]\n",
    "    sc.tl.rank_genes_groups(adata, \"clusters\", method=\"wilcoxon\", layer='normcounts', use_raw=False) # use_raw=None seems to translate to True which causes error\n",
    "    sc.pl.rank_genes_groups_heatmap(adata, n_genes=5, groupby=\"clusters\", \n",
    "                                    save=f'_{name}_heatmap_wilcoxonClusterDEGs.svg'\n",
    "                                    #gene_symbols='SYMBOL'\n",
    "                                   )"
   ]
  },
  {
   "cell_type": "code",
   "execution_count": null,
   "metadata": {},
   "outputs": [],
   "source": [
    "slides[0].var"
   ]
  },
  {
   "cell_type": "code",
   "execution_count": null,
   "metadata": {},
   "outputs": [],
   "source": []
  }
 ],
 "metadata": {
  "kernelspec": {
   "display_name": "Python 3",
   "language": "python",
   "name": "python3"
  },
  "language_info": {
   "codemirror_mode": {
    "name": "ipython",
    "version": 3
   },
   "file_extension": ".py",
   "mimetype": "text/x-python",
   "name": "python",
   "nbconvert_exporter": "python",
   "pygments_lexer": "ipython3",
   "version": "3.9.16"
  }
 },
 "nbformat": 4,
 "nbformat_minor": 2
}
