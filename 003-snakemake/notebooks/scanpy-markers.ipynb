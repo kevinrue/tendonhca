{
 "cells": [
  {
   "cell_type": "code",
   "execution_count": null,
   "metadata": {},
   "outputs": [],
   "source": [
    "import os\n",
    "import re\n",
    "\n",
    "import IPython\n",
    "\n",
    "import pandas as pd\n",
    "\n",
    "import scanpy as sc\n",
    "\n",
    "import numpy as np\n",
    "import matplotlib as mpl\n",
    "import matplotlib.pyplot as plt\n",
    "import seaborn as sns\n",
    "\n",
    "# silence scanpy that prints a lot of warnings\n",
    "import warnings\n",
    "warnings.filterwarnings('ignore')\n",
    "\n",
    "# change default output directory for figures\n",
    "sc.settings.figdir = './'"
   ]
  },
  {
   "cell_type": "code",
   "execution_count": null,
   "metadata": {},
   "outputs": [],
   "source": [
    "os.chdir(\"/project/tendonhca/albrecht/003-snakemake\")"
   ]
  },
  {
   "cell_type": "code",
   "execution_count": null,
   "metadata": {},
   "outputs": [],
   "source": [
    "sample_name = \"OMB0793_Quad_Enth2_T\""
   ]
  },
  {
   "cell_type": "code",
   "execution_count": null,
   "metadata": {},
   "outputs": [],
   "source": [
    "def read_and_qc(sample_name):\n",
    "    r\"\"\" This function reads the data for one 10X spatial experiment into the anndata object.\n",
    "    It also calculates QC metrics. Modify this function if required by your workflow.\n",
    "    \n",
    "    :param sample_name: Name of the sample\n",
    "    \"\"\"\n",
    "    \n",
    "    adata = sc.read_visium(\"results/spaceranger_count/\" + str(sample_name) + '/outs',\n",
    "                           count_file='filtered_feature_bc_matrix.h5', load_images=True)\n",
    "    adata.obs['sample'] = sample_name\n",
    "    adata.var['SYMBOL'] = adata.var_names\n",
    "    adata.var.rename(columns={'gene_ids': 'ENSEMBL'}, inplace=True)\n",
    "    adata.var_names = adata.var['ENSEMBL']\n",
    "    adata.var.drop(columns='ENSEMBL', inplace=True)\n",
    "    \n",
    "    # Calculate QC metrics\n",
    "    from scipy.sparse import csr_matrix\n",
    "    adata.X = adata.X.toarray()\n",
    "    sc.pp.calculate_qc_metrics(adata, inplace=True)\n",
    "    adata.X = csr_matrix(adata.X)\n",
    "    \n",
    "    # add sample name to obs names\n",
    "    adata.obs[\"sample\"] = [str(i) for i in adata.obs['sample']]\n",
    "    adata.obs_names = adata.obs[\"sample\"] \\\n",
    "                          + '_' + adata.obs_names\n",
    "    adata.obs.index.name = 'spot_id'\n",
    "    \n",
    "    return adata\n",
    "\n",
    "def select_slide(adata, s, s_col='sample'):\n",
    "    r\"\"\" This function selects the data for one slide from the spatial anndata object.\n",
    "\n",
    "    :param adata: Anndata object with multiple spatial experiments\n",
    "    :param s: name of selected experiment\n",
    "    :param s_col: column in adata.obs listing experiment name for each location\n",
    "    \"\"\"\n",
    "    \n",
    "    slide = adata[adata.obs[s_col].isin([s]), :]\n",
    "    s_keys = list(slide.uns['spatial'].keys())\n",
    "    s_spatial = np.array(s_keys)[[s in k for k in s_keys]][0]\n",
    "    \n",
    "    slide.uns['spatial'] = {s_spatial: slide.uns['spatial'][s_spatial]}\n",
    "    \n",
    "    return slide"
   ]
  },
  {
   "cell_type": "code",
   "execution_count": null,
   "metadata": {},
   "outputs": [],
   "source": [
    "# Read the data into anndata objects\n",
    "slides = []\n",
    "for i in [sample_name]:\n",
    "    slides.append(read_and_qc(i))\n",
    "\n",
    "# Combine anndata objects together\n",
    "adata = slides[0].concatenate(\n",
    "    slides[1:],\n",
    "    batch_key=\"sample\",\n",
    "    uns_merge=\"unique\",\n",
    "    batch_categories=[sample_name],\n",
    "    index_unique=None\n",
    ")\n",
    "adata"
   ]
  },
  {
   "cell_type": "code",
   "execution_count": null,
   "metadata": {},
   "outputs": [],
   "source": [
    "curated_markers = pd.read_csv(\"data/curated_markers.tsv\", sep=\"\\t\")\n",
    "curated_markers.head()"
   ]
  },
  {
   "cell_type": "code",
   "execution_count": null,
   "metadata": {},
   "outputs": [],
   "source": [
    "cell_type = \"Fibroblast\"\n",
    "markers_symbols = curated_markers['gene_symbol'][curated_markers['cell_type'] == cell_type].tolist()\n",
    "markers_symbols"
   ]
  },
  {
   "cell_type": "code",
   "execution_count": null,
   "metadata": {},
   "outputs": [],
   "source": [
    "slide = select_slide(adata, sample_name)\n",
    "markers_symbols_available = list(set(markers_symbols).intersection(slide.var['SYMBOL']))\n",
    "fig = sc.pl.spatial(slide, img_key = \"hires\", cmap='magma',\n",
    "                  library_id=list(slide.uns['spatial'].keys())[0],\n",
    "                  color=['total_counts'] + markers_symbols_available, size=1,\n",
    "                  vmin=0, vmax='p95.0',\n",
    "                  gene_symbols='SYMBOL', show=False, return_fig=True,\n",
    "                  save=f\"-sc_pl_spatial-{cell_type}.png\")"
   ]
  },
  {
   "cell_type": "code",
   "execution_count": null,
   "metadata": {},
   "outputs": [],
   "source": [
    "for cell_type in curated_markers['cell_type'].unique():\n",
    "    markers_symbols = curated_markers['gene_symbol'][curated_markers['cell_type'] == cell_type].tolist()\n",
    "    fig = sc.pl.spatial(\n",
    "        slide, img_key = \"hires\", cmap='magma',\n",
    "        library_id=list(slide.uns['spatial'].keys())[0],\n",
    "        color=['total_counts'] + markers_symbols_available, size=1,\n",
    "        vmin=0, vmax='p95.0',\n",
    "        gene_symbols='SYMBOL', show=False, return_fig=True,\n",
    "        save=f\"-sc_pl_spatial-{cell_type}.png\")\n",
    "    os.rename(f\"show-sc_pl_spatial-{cell_type}.png\", f\"tmp/{sample_name}.png\")"
   ]
  }
 ],
 "metadata": {
  "kernelspec": {
   "display_name": "Python 3",
   "language": "python",
   "name": "python3"
  },
  "language_info": {
   "codemirror_mode": {
    "name": "ipython",
    "version": 3
   },
   "file_extension": ".py",
   "mimetype": "text/x-python",
   "name": "python",
   "nbconvert_exporter": "python",
   "pygments_lexer": "ipython3",
   "version": "3.11.3"
  },
  "orig_nbformat": 4
 },
 "nbformat": 4,
 "nbformat_minor": 2
}
